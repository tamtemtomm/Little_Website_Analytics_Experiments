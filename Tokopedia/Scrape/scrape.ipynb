{
 "cells": [
  {
   "attachments": {},
   "cell_type": "markdown",
   "metadata": {},
   "source": [
    "TO DO\n",
    "1. /promo exludes from the links array\n",
    "2. test runtime shorter delay\n",
    "3. visulization\n",
    "4. make input prompt inside streamlit\n",
    "5. design"
   ]
  },
  {
   "attachments": {},
   "cell_type": "markdown",
   "metadata": {},
   "source": [
    "<h3>Import Dependencies</h3>"
   ]
  },
  {
   "cell_type": "code",
   "execution_count": 25,
   "metadata": {},
   "outputs": [],
   "source": [
    "import pandas as pd\n",
    "import numpy as np\n",
    "import matplotlib.pyplot as plt\n",
    "import seaborn as sns\n",
    "import streamlit as st\n",
    "import base64\n",
    "\n",
    "from selenium import webdriver\n",
    "from seleniumwire.utils import decode\n",
    "from selenium.webdriver.support.wait import WebDriverWait\n",
    "from selenium.webdriver.support import expected_conditions as expected_conditions\n",
    "from selenium.webdriver.common.keys import Keys\n",
    "from selenium.webdriver.common.action_chains import ActionChains\n",
    "import undetected_chromedriver as uc\n",
    "\n",
    "import json\n",
    "import time\n",
    "import re\n",
    "from selenium.webdriver.common.by import By"
   ]
  },
  {
   "attachments": {},
   "cell_type": "markdown",
   "metadata": {},
   "source": [
    "Make a scraping function"
   ]
  },
  {
   "cell_type": "code",
   "execution_count": 2,
   "metadata": {},
   "outputs": [],
   "source": [
    "def scrape_data(prompt, pagestop) :\n",
    "    links = []\n",
    "    page = 0\n",
    "    url = 'https://www.tokopedia.com/'\n",
    "    search = prompt\n",
    "    proxy = 'proxy-server=106.122.8.54:3128'\n",
    "    chromeuser = r'--user-data-dir=C:\\Users\\HP G7\\AppData\\Local\\Google\\Chrome\\User Data\\Default'\n",
    "    \n",
    "    options = uc.ChromeOptions()\n",
    "    options.add_argument(proxy)\n",
    "    options.add_argument(chromeuser)\n",
    "\n",
    "    driver = uc.Chrome(options=options)\n",
    "    driver.get(url)\n",
    "    time.sleep(2)\n",
    "    driver.find_element(By.XPATH, '//input[@placeholder=\"Cari di Tokopedia\"]').send_keys(search + Keys.RETURN)\n",
    "\n",
    "    while(page<pagestop) :\n",
    "        print(f'Scrape links di page ke-{page+1}')\n",
    "        time.sleep(1)\n",
    "        driver.execute_script('window.scrollTo(0, 3000)')\n",
    "        time.sleep(1)\n",
    "        driver.execute_script('window.scrollTo(0, 1500)')\n",
    "        time.sleep(1)\n",
    "        driver.execute_script('window.scrollTo(0, 4500)')\n",
    "        time.sleep(2)\n",
    "\n",
    "        content = driver.find_elements(By.XPATH, \"//a[@class='pcv3__info-content css-gwkf0u']\")\n",
    "        for c in content: \n",
    "            links.append(c.get_attribute('href'))\n",
    "            \n",
    "        driver.execute_script('window.scrollTo(0, 5000)')\n",
    "        driver.find_element(By.XPATH, \"(//button/*[name()='svg'])[last()]\").click()\n",
    "        page += 1\n",
    "    \n",
    "    print('------------------------------------')\n",
    "    print(f'Berhasil mendapatkan {len(links)} link')\n",
    "    print('------------------------------------')\n",
    "\n",
    "    products = [dict() for x in range(len(links))]\n",
    "\n",
    "    i = 0\n",
    "    for link in links :\n",
    "        print(f'Scrape produk ke-{i+1}')\n",
    "        driver.get(link)\n",
    "        time.sleep(1)\n",
    "        driver.execute_script('window.scrollTo(0, 540)')\n",
    "        time.sleep(1)\n",
    "        \n",
    "        try : \n",
    "            products[i]['name'] = driver.find_element(By.XPATH, '//h1').text\n",
    "        except : \n",
    "            products[i]['name'] = '-'\n",
    "        \n",
    "        try : \n",
    "            products[i]['sold'] = driver.find_element(By.XPATH, \"//p[@data-testid='lblPDPDetailProductSoldCounter']\").text\n",
    "        except: \n",
    "            products[i]['sold'] = '-'\n",
    "        \n",
    "        try : \n",
    "            products[i]['rating'] = driver.find_element(By.XPATH, \"//span[@data-testid='lblPDPDetailProductRatingNumber']\").text\n",
    "        except: \n",
    "            products[i]['rating'] = '-'\n",
    "        \n",
    "        try : \n",
    "            products[i]['price'] = driver.find_element(By.XPATH, \"//div[@data-testid='lblPDPDetailProductPrice']\").text\n",
    "        except: \n",
    "            products[i]['price'] = '-'\n",
    "        \n",
    "        try : \n",
    "            products[i]['city'] = driver.find_element(By.XPATH, \"//h2[@class='css-1pd07ge-unf-heading e1qvo2ff2']/b\").text\n",
    "        except : \n",
    "            products[i]['city'] = '-'\n",
    "        i+=1\n",
    "        \n",
    "    df = pd.DataFrame(products)\n",
    "    df = df[df.name!='Access Denied']\n",
    "    df.to_csv(f'{prompt}product.csv')\n",
    "    return df"
   ]
  },
  {
   "attachments": {},
   "cell_type": "markdown",
   "metadata": {},
   "source": [
    "Make a main function"
   ]
  },
  {
   "cell_type": "code",
   "execution_count": 3,
   "metadata": {},
   "outputs": [],
   "source": [
    "def main():\n",
    "    prompt = input(\"Masukkan prompt : \")\n",
    "    page = input(\"Masukkan page : \")\n",
    "    df = scrape_data(prompt, int(page))\n",
    "    \n",
    "    # Data Engineer\n",
    "    df = df[df.name!='-']\n",
    "    df = df[df.name!='Access Denied']\n",
    "    df['city'] = df['city'].apply(lambda x : x if x!='-' else np.nan)\n",
    "    df['price'] = df['price'].apply(lambda x : int(x[2:].replace('.','')) if x!='-' else np.nan)\n",
    "    df['rating'] = df['rating'].apply(lambda x : float(x) if x!='-' else np.nan)\n",
    "    df['sold'] = df['sold'].apply(lambda x : ' '.join(str(x).split(' ')[1:]) if x!='-' else np.nan)\n",
    "    df['sold'] = df['sold'].apply(lambda x: int(str(x).split()[0])*1000 if str(x)[-3:] == 'rb+' else x)\n",
    "    df['sold'] = df['sold'].apply(lambda x: int(str(x)[:-1]) if str(x)[-1] == '+' else x)\n",
    "    df['sold'] = df['sold'].apply(lambda x: int(x) if str(x).isnumeric() else x)\n",
    "    df = df[df.sold!='barang berhasil terjual']\n",
    "    return df"
   ]
  },
  {
   "attachments": {},
   "cell_type": "markdown",
   "metadata": {},
   "source": [
    "Run main function"
   ]
  },
  {
   "cell_type": "code",
   "execution_count": 4,
   "metadata": {},
   "outputs": [
    {
     "name": "stdout",
     "output_type": "stream",
     "text": [
      "Scrape links di page ke-1\n",
      "Scrape links di page ke-2\n",
      "------------------------------------\n",
      "Berhasil mendapatkan 166 link\n",
      "------------------------------------\n",
      "Scrape produk ke-1\n",
      "Scrape produk ke-2\n",
      "Scrape produk ke-3\n",
      "Scrape produk ke-4\n",
      "Scrape produk ke-5\n",
      "Scrape produk ke-6\n",
      "Scrape produk ke-7\n",
      "Scrape produk ke-8\n",
      "Scrape produk ke-9\n",
      "Scrape produk ke-10\n",
      "Scrape produk ke-11\n",
      "Scrape produk ke-12\n",
      "Scrape produk ke-13\n",
      "Scrape produk ke-14\n",
      "Scrape produk ke-15\n",
      "Scrape produk ke-16\n",
      "Scrape produk ke-17\n",
      "Scrape produk ke-18\n",
      "Scrape produk ke-19\n",
      "Scrape produk ke-20\n",
      "Scrape produk ke-21\n",
      "Scrape produk ke-22\n",
      "Scrape produk ke-23\n",
      "Scrape produk ke-24\n",
      "Scrape produk ke-25\n",
      "Scrape produk ke-26\n",
      "Scrape produk ke-27\n",
      "Scrape produk ke-28\n",
      "Scrape produk ke-29\n",
      "Scrape produk ke-30\n",
      "Scrape produk ke-31\n",
      "Scrape produk ke-32\n",
      "Scrape produk ke-33\n",
      "Scrape produk ke-34\n",
      "Scrape produk ke-35\n",
      "Scrape produk ke-36\n",
      "Scrape produk ke-37\n",
      "Scrape produk ke-38\n",
      "Scrape produk ke-39\n",
      "Scrape produk ke-40\n",
      "Scrape produk ke-41\n",
      "Scrape produk ke-42\n",
      "Scrape produk ke-43\n",
      "Scrape produk ke-44\n",
      "Scrape produk ke-45\n",
      "Scrape produk ke-46\n",
      "Scrape produk ke-47\n",
      "Scrape produk ke-48\n",
      "Scrape produk ke-49\n",
      "Scrape produk ke-50\n",
      "Scrape produk ke-51\n",
      "Scrape produk ke-52\n",
      "Scrape produk ke-53\n",
      "Scrape produk ke-54\n",
      "Scrape produk ke-55\n",
      "Scrape produk ke-56\n",
      "Scrape produk ke-57\n",
      "Scrape produk ke-58\n",
      "Scrape produk ke-59\n",
      "Scrape produk ke-60\n",
      "Scrape produk ke-61\n",
      "Scrape produk ke-62\n",
      "Scrape produk ke-63\n",
      "Scrape produk ke-64\n",
      "Scrape produk ke-65\n",
      "Scrape produk ke-66\n",
      "Scrape produk ke-67\n",
      "Scrape produk ke-68\n",
      "Scrape produk ke-69\n",
      "Scrape produk ke-70\n",
      "Scrape produk ke-71\n",
      "Scrape produk ke-72\n",
      "Scrape produk ke-73\n",
      "Scrape produk ke-74\n",
      "Scrape produk ke-75\n",
      "Scrape produk ke-76\n",
      "Scrape produk ke-77\n",
      "Scrape produk ke-78\n",
      "Scrape produk ke-79\n",
      "Scrape produk ke-80\n",
      "Scrape produk ke-81\n",
      "Scrape produk ke-82\n",
      "Scrape produk ke-83\n",
      "Scrape produk ke-84\n",
      "Scrape produk ke-85\n",
      "Scrape produk ke-86\n",
      "Scrape produk ke-87\n",
      "Scrape produk ke-88\n",
      "Scrape produk ke-89\n",
      "Scrape produk ke-90\n",
      "Scrape produk ke-91\n",
      "Scrape produk ke-92\n",
      "Scrape produk ke-93\n",
      "Scrape produk ke-94\n",
      "Scrape produk ke-95\n",
      "Scrape produk ke-96\n",
      "Scrape produk ke-97\n",
      "Scrape produk ke-98\n",
      "Scrape produk ke-99\n",
      "Scrape produk ke-100\n",
      "Scrape produk ke-101\n",
      "Scrape produk ke-102\n",
      "Scrape produk ke-103\n",
      "Scrape produk ke-104\n",
      "Scrape produk ke-105\n",
      "Scrape produk ke-106\n",
      "Scrape produk ke-107\n",
      "Scrape produk ke-108\n",
      "Scrape produk ke-109\n",
      "Scrape produk ke-110\n",
      "Scrape produk ke-111\n",
      "Scrape produk ke-112\n",
      "Scrape produk ke-113\n",
      "Scrape produk ke-114\n",
      "Scrape produk ke-115\n",
      "Scrape produk ke-116\n",
      "Scrape produk ke-117\n",
      "Scrape produk ke-118\n",
      "Scrape produk ke-119\n",
      "Scrape produk ke-120\n",
      "Scrape produk ke-121\n",
      "Scrape produk ke-122\n",
      "Scrape produk ke-123\n",
      "Scrape produk ke-124\n",
      "Scrape produk ke-125\n",
      "Scrape produk ke-126\n",
      "Scrape produk ke-127\n",
      "Scrape produk ke-128\n",
      "Scrape produk ke-129\n",
      "Scrape produk ke-130\n",
      "Scrape produk ke-131\n",
      "Scrape produk ke-132\n",
      "Scrape produk ke-133\n",
      "Scrape produk ke-134\n",
      "Scrape produk ke-135\n",
      "Scrape produk ke-136\n",
      "Scrape produk ke-137\n",
      "Scrape produk ke-138\n",
      "Scrape produk ke-139\n",
      "Scrape produk ke-140\n",
      "Scrape produk ke-141\n",
      "Scrape produk ke-142\n",
      "Scrape produk ke-143\n",
      "Scrape produk ke-144\n",
      "Scrape produk ke-145\n",
      "Scrape produk ke-146\n",
      "Scrape produk ke-147\n",
      "Scrape produk ke-148\n",
      "Scrape produk ke-149\n",
      "Scrape produk ke-150\n",
      "Scrape produk ke-151\n",
      "Scrape produk ke-152\n",
      "Scrape produk ke-153\n",
      "Scrape produk ke-154\n",
      "Scrape produk ke-155\n",
      "Scrape produk ke-156\n",
      "Scrape produk ke-157\n",
      "Scrape produk ke-158\n",
      "Scrape produk ke-159\n",
      "Scrape produk ke-160\n",
      "Scrape produk ke-161\n",
      "Scrape produk ke-162\n",
      "Scrape produk ke-163\n",
      "Scrape produk ke-164\n",
      "Scrape produk ke-165\n",
      "Scrape produk ke-166\n"
     ]
    }
   ],
   "source": [
    "df = main()"
   ]
  },
  {
   "attachments": {},
   "cell_type": "markdown",
   "metadata": {},
   "source": [
    "Data Engineering"
   ]
  },
  {
   "cell_type": "code",
   "execution_count": 26,
   "metadata": {},
   "outputs": [],
   "source": [
    "df = pd.read_csv(\"tas wanitaproduct.csv\").drop('Unnamed: 0', axis=1).set_index('name')\n",
    "# df['city'] = df['city'].apply(lambda x : x if x!='-' else np.nan)\n",
    "# df['price'] = df['price'].apply(lambda x : int(str(x)[2:].replace('.','')) if x!='-' else np.nan)\n",
    "# df['rating'] = df['rating'].apply(lambda x : float(x) if x!='-' else np.nan)\n",
    "# df['sold'] = df['sold'].apply(lambda x : ' '.join(str(x).split(' ')[1:]) if x!='-' else np.nan)\n",
    "# df['sold'] = df['sold'].apply(lambda x: int(str(x).split()[0])*1000 if str(x)[-3:] == 'rb+' else x)\n",
    "# df['sold'] = df['sold'].apply(lambda x: int(str(x)[:-1]) if str(x)[-1] == '+' else x)\n",
    "# df['sold'] = df['sold'].apply(lambda x: int(x) if str(x).isnumeric() else x)\n",
    "# df = df[df.sold!='barang berhasil terjual']"
   ]
  },
  {
   "cell_type": "code",
   "execution_count": 5,
   "metadata": {},
   "outputs": [
    {
     "data": {
      "text/html": [
       "<div>\n",
       "<style scoped>\n",
       "    .dataframe tbody tr th:only-of-type {\n",
       "        vertical-align: middle;\n",
       "    }\n",
       "\n",
       "    .dataframe tbody tr th {\n",
       "        vertical-align: top;\n",
       "    }\n",
       "\n",
       "    .dataframe thead th {\n",
       "        text-align: right;\n",
       "    }\n",
       "</style>\n",
       "<table border=\"1\" class=\"dataframe\">\n",
       "  <thead>\n",
       "    <tr style=\"text-align: right;\">\n",
       "      <th></th>\n",
       "      <th>Unnamed: 0</th>\n",
       "      <th>name</th>\n",
       "      <th>sold</th>\n",
       "      <th>rating</th>\n",
       "      <th>price</th>\n",
       "      <th>city</th>\n",
       "    </tr>\n",
       "  </thead>\n",
       "  <tbody>\n",
       "    <tr>\n",
       "      <th>0</th>\n",
       "      <td>0</td>\n",
       "      <td>Tas Wanita Hush Puppies Dumpling Bag S 2Tone P...</td>\n",
       "      <td>50.0</td>\n",
       "      <td>5.0</td>\n",
       "      <td>249500</td>\n",
       "      <td>Kota Tangerang</td>\n",
       "    </tr>\n",
       "    <tr>\n",
       "      <th>1</th>\n",
       "      <td>1</td>\n",
       "      <td>Tas Wanita Hush Puppies Dumpling Bag S 2Tone M...</td>\n",
       "      <td>30.0</td>\n",
       "      <td>4.6</td>\n",
       "      <td>249500</td>\n",
       "      <td>Kota Tangerang</td>\n",
       "    </tr>\n",
       "    <tr>\n",
       "      <th>2</th>\n",
       "      <td>3</td>\n",
       "      <td>tas import C5 tas selempang wanita murah - Hitam</td>\n",
       "      <td>NaN</td>\n",
       "      <td>NaN</td>\n",
       "      <td>83300</td>\n",
       "      <td>NaN</td>\n",
       "    </tr>\n",
       "    <tr>\n",
       "      <th>3</th>\n",
       "      <td>6</td>\n",
       "      <td>Paris Lowell Tas SlingBag Wanita Selempang Mul...</td>\n",
       "      <td>NaN</td>\n",
       "      <td>NaN</td>\n",
       "      <td>169950</td>\n",
       "      <td>NaN</td>\n",
       "    </tr>\n",
       "    <tr>\n",
       "      <th>4</th>\n",
       "      <td>9</td>\n",
       "      <td>Tas Wanita Besar New Ashley Zipper Black Merche</td>\n",
       "      <td>NaN</td>\n",
       "      <td>NaN</td>\n",
       "      <td>165000</td>\n",
       "      <td>NaN</td>\n",
       "    </tr>\n",
       "  </tbody>\n",
       "</table>\n",
       "</div>"
      ],
      "text/plain": [
       "   Unnamed: 0                                               name  sold  \\\n",
       "0           0  Tas Wanita Hush Puppies Dumpling Bag S 2Tone P...  50.0   \n",
       "1           1  Tas Wanita Hush Puppies Dumpling Bag S 2Tone M...  30.0   \n",
       "2           3   tas import C5 tas selempang wanita murah - Hitam   NaN   \n",
       "3           6  Paris Lowell Tas SlingBag Wanita Selempang Mul...   NaN   \n",
       "4           9    Tas Wanita Besar New Ashley Zipper Black Merche   NaN   \n",
       "\n",
       "   rating   price            city  \n",
       "0     5.0  249500  Kota Tangerang  \n",
       "1     4.6  249500  Kota Tangerang  \n",
       "2     NaN   83300             NaN  \n",
       "3     NaN  169950             NaN  \n",
       "4     NaN  165000             NaN  "
      ]
     },
     "execution_count": 5,
     "metadata": {},
     "output_type": "execute_result"
    }
   ],
   "source": [
    "df.head()"
   ]
  },
  {
   "attachments": {},
   "cell_type": "markdown",
   "metadata": {},
   "source": [
    "Data Visualization"
   ]
  },
  {
   "cell_type": "code",
   "execution_count": 27,
   "metadata": {},
   "outputs": [
    {
     "name": "stderr",
     "output_type": "stream",
     "text": [
      "c:\\Users\\HP G7\\AppData\\Local\\Programs\\Python\\Python39\\lib\\site-packages\\seaborn\\_decorators.py:36: FutureWarning: Pass the following variable as a keyword arg: x. From version 0.12, the only valid positional argument will be `data`, and passing other arguments without an explicit keyword will result in an error or misinterpretation.\n",
      "  warnings.warn(\n"
     ]
    },
    {
     "data": {
      "image/png": "[encoded data removed]",
      "text/plain": [
       "<Figure size 720x432 with 1 Axes>"
      ]
     },
     "metadata": {
      "needs_background": "light"
     },
     "output_type": "display_data"
    }
   ],
   "source": [
    "fig, ax = plt.subplots(figsize=(10,6))\n",
    "sold = sns.countplot(df.sold)\n",
    "plt.xticks(rotation=90)\n",
    "plt.xlabel('Sold', fontsize=16)\n",
    "plt.ylabel('Frequency', fontsize=16)\n",
    "plt.tight_layout()\n",
    "plt.show()\n",
    "fig.savefig('sold.jpg')"
   ]
  },
  {
   "cell_type": "code",
   "execution_count": 19,
   "metadata": {},
   "outputs": [
    {
     "data": {
      "image/png": "[encoded data removed]",
      "text/plain": [
       "<Figure size 720x432 with 1 Axes>"
      ]
     },
     "metadata": {
      "needs_background": "light"
     },
     "output_type": "display_data"
    }
   ],
   "source": [
    "fig, ax = plt.subplots(figsize=(10,6))\n",
    "price = sns.histplot(df.price, binwidth=50000)\n",
    "plt.xlabel('Price', fontsize=16)\n",
    "plt.ylabel('Frequency', fontsize=16)\n",
    "plt.tight_layout()\n",
    "plt.show()\n",
    "fig.savefig('price.jpg')"
   ]
  },
  {
   "cell_type": "code",
   "execution_count": 20,
   "metadata": {},
   "outputs": [
    {
     "name": "stderr",
     "output_type": "stream",
     "text": [
      "c:\\Users\\HP G7\\AppData\\Local\\Programs\\Python\\Python39\\lib\\site-packages\\seaborn\\_decorators.py:36: FutureWarning: Pass the following variable as a keyword arg: x. From version 0.12, the only valid positional argument will be `data`, and passing other arguments without an explicit keyword will result in an error or misinterpretation.\n",
      "  warnings.warn(\n"
     ]
    },
    {
     "data": {
      "image/png": "[encoded data removed]",
      "text/plain": [
       "<Figure size 720x432 with 1 Axes>"
      ]
     },
     "metadata": {
      "needs_background": "light"
     },
     "output_type": "display_data"
    }
   ],
   "source": [
    "fig, ax = plt.subplots(figsize=(10,6))\n",
    "sns.countplot(df.rating)\n",
    "plt.xlabel('Rating', fontsize=16)\n",
    "plt.ylabel('Frequency', fontsize=16)\n",
    "plt.tight_layout()\n",
    "plt.show()\n",
    "fig.savefig('rating.jpg')"
   ]
  },
  {
   "cell_type": "code",
   "execution_count": 24,
   "metadata": {},
   "outputs": [
    {
     "name": "stderr",
     "output_type": "stream",
     "text": [
      "c:\\Users\\HP G7\\AppData\\Local\\Programs\\Python\\Python39\\lib\\site-packages\\seaborn\\_decorators.py:36: FutureWarning: Pass the following variable as a keyword arg: x. From version 0.12, the only valid positional argument will be `data`, and passing other arguments without an explicit keyword will result in an error or misinterpretation.\n",
      "  warnings.warn(\n"
     ]
    },
    {
     "data": {
      "image/png": "[encoded data removed]",
      "text/plain": [
       "<Figure size 720x432 with 1 Axes>"
      ]
     },
     "metadata": {
      "needs_background": "light"
     },
     "output_type": "display_data"
    }
   ],
   "source": [
    "fig, ax = plt.subplots(figsize=(10,6))\n",
    "city = sns.countplot(df.city, ax=ax)\n",
    "plt.xticks(rotation=90)\n",
    "plt.xlabel('City', fontsize=14)\n",
    "plt.ylabel('Frequency', fontsize=14)\n",
    "plt.show()\n",
    "fig.savefig('city.jpg')"
   ]
  },
  {
   "attachments": {},
   "cell_type": "markdown",
   "metadata": {},
   "source": [
    "Make a streamlit app"
   ]
  },
  {
   "cell_type": "code",
   "execution_count": 3,
   "metadata": {},
   "outputs": [
    {
     "name": "stderr",
     "output_type": "stream",
     "text": [
      "2023-04-29 09:47:03.989 \n",
      "  \u001b[33m\u001b[1mWarning:\u001b[0m to view this Streamlit app on a browser, run it with the following\n",
      "  command:\n",
      "\n",
      "    streamlit run c:\\Users\\HP G7\\AppData\\Local\\Programs\\Python\\Python39\\lib\\site-packages\\ipykernel_launcher.py [ARGUMENTS]\n"
     ]
    },
    {
     "data": {
      "text/plain": [
       "DeltaGenerator()"
      ]
     },
     "execution_count": 3,
     "metadata": {},
     "output_type": "execute_result"
    }
   ],
   "source": [
    "st.title('Make a Simple Stats from Tokopedia Search')\n",
    "st.markdown(\"\"\"\n",
    "* **Python libraries:** base64, pandas, streamlit, numpy, matplotlib, seaborn\n",
    "* **Data source:** Live Scraping using Selenium.\n",
    "\"\"\")\n",
    "st.dataframe(df)"
   ]
  }
 ],
 "metadata": {
  "kernelspec": {
   "display_name": "Python 3",
   "language": "python",
   "name": "python3"
  },
  "language_info": {
   "codemirror_mode": {
    "name": "ipython",
    "version": 3
   },
   "file_extension": ".py",
   "mimetype": "text/x-python",
   "name": "python",
   "nbconvert_exporter": "python",
   "pygments_lexer": "ipython3",
   "version": "3.9.6"
  },
  "orig_nbformat": 4
 },
 "nbformat": 4,
 "nbformat_minor": 2
}
